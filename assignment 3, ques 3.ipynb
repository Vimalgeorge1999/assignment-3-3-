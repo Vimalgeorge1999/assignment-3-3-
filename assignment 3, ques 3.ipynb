{
 "cells": [
  {
   "cell_type": "code",
   "execution_count": 6,
   "id": "ec250069",
   "metadata": {},
   "outputs": [
    {
     "ename": "NameError",
     "evalue": "name 'count' is not defined",
     "output_type": "error",
     "traceback": [
      "\u001b[1;31m---------------------------------------------------------------------------\u001b[0m",
      "\u001b[1;31mNameError\u001b[0m                                 Traceback (most recent call last)",
      "Cell \u001b[1;32mIn[6], line 7\u001b[0m\n\u001b[0;32m      5\u001b[0m         \u001b[38;5;28;01melif\u001b[39;00m i\u001b[38;5;241m.\u001b[39mislower():\n\u001b[0;32m      6\u001b[0m             \u001b[38;5;28mprint\u001b[39m(count(s\u001b[38;5;241m.\u001b[39mislower))\n\u001b[1;32m----> 7\u001b[0m \u001b[38;5;28mprint\u001b[39m(\u001b[43mupperlower\u001b[49m\u001b[43m(\u001b[49m\u001b[38;5;124;43m\"\u001b[39;49m\u001b[38;5;124;43mThe quick Brow Fox\u001b[39;49m\u001b[38;5;124;43m\"\u001b[39;49m\u001b[43m)\u001b[49m)    \n",
      "Cell \u001b[1;32mIn[6], line 4\u001b[0m, in \u001b[0;36mupperlower\u001b[1;34m(s)\u001b[0m\n\u001b[0;32m      2\u001b[0m \u001b[38;5;28;01mfor\u001b[39;00m i \u001b[38;5;129;01min\u001b[39;00m s:\n\u001b[0;32m      3\u001b[0m     \u001b[38;5;28;01mif\u001b[39;00m i\u001b[38;5;241m.\u001b[39misupper():\n\u001b[1;32m----> 4\u001b[0m         \u001b[38;5;28mprint\u001b[39m(\u001b[43mcount\u001b[49m(s\u001b[38;5;241m.\u001b[39misupper))          \n\u001b[0;32m      5\u001b[0m     \u001b[38;5;28;01melif\u001b[39;00m i\u001b[38;5;241m.\u001b[39mislower():\n\u001b[0;32m      6\u001b[0m         \u001b[38;5;28mprint\u001b[39m(count(s\u001b[38;5;241m.\u001b[39mislower))\n",
      "\u001b[1;31mNameError\u001b[0m: name 'count' is not defined"
     ]
    }
   ],
   "source": [
    "def upperlower(s):\n",
    "    for i in s:\n",
    "        if i.isupper():\n",
    "            print(count(s.isupper))          \n",
    "        elif i.islower():\n",
    "            print(count(s.islower))\n",
    "print(upperlower(\"The quick Brow Fox\"))    "
   ]
  },
  {
   "cell_type": "code",
   "execution_count": null,
   "id": "8786962c",
   "metadata": {},
   "outputs": [],
   "source": []
  },
  {
   "cell_type": "code",
   "execution_count": null,
   "id": "f110fae9",
   "metadata": {},
   "outputs": [],
   "source": []
  }
 ],
 "metadata": {
  "kernelspec": {
   "display_name": "Python 3 (ipykernel)",
   "language": "python",
   "name": "python3"
  },
  "language_info": {
   "codemirror_mode": {
    "name": "ipython",
    "version": 3
   },
   "file_extension": ".py",
   "mimetype": "text/x-python",
   "name": "python",
   "nbconvert_exporter": "python",
   "pygments_lexer": "ipython3",
   "version": "3.11.0"
  }
 },
 "nbformat": 4,
 "nbformat_minor": 5
}
